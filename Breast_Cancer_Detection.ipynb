{
  "nbformat": 4,
  "nbformat_minor": 0,
  "metadata": {
    "colab": {
      "name": "Breast Cancer Detection",
      "provenance": [],
      "collapsed_sections": []
    },
    "kernelspec": {
      "name": "python3",
      "display_name": "Python 3"
    },
    "language_info": {
      "name": "python"
    }
  },
  "cells": [
    {
      "cell_type": "markdown",
      "metadata": {
        "id": "zM13jbPMZiM0"
      },
      "source": [
        "Over the past decades, machine learning techniques have been widely used in intelligent health systems, particularly for breast cancer diagnosis and prognosis. In this article, I will walk you through how to create a breast cancer detection model using machine learning and the Python programming language.\n",
        "\n",
        "Breast cancer is one of the most common cancers in women globally, accounting for the majority of new cancer cases and cancer-related deaths according to global statistics, making it a major public health problem in the world. today’s society.\n",
        "\n",
        "Early diagnosis of breast cancer can dramatically improve prognosis and chances of survival, as it can promote timely clinical treatment of patients. More precise classification of benign tumours can prevent patients from undergoing unnecessary treatments.\n",
        "#Breast Cancer Detection using Machine Learning\n",
        "In this section, I will implement a Naive Bayes algorithm in Machine Learning using Python. For this task, I will use a database of breast cancer tumour information for breast cancer detection.\n",
        "Let’s start by importing and loading the necessary python libraries and the breast cancer dataset provided by Scikit-learn:"
      ]
    },
    {
      "cell_type": "code",
      "metadata": {
        "id": "ir30loR2ZKfb"
      },
      "source": [
        "from sklearn.datasets import load_breast_cancer\n",
        "from sklearn.model_selection import train_test_split\n",
        "from sklearn.naive_bayes import GaussianNB\n",
        "from sklearn.linear_model import LinearRegression\n",
        "from sklearn.metrics import accuracy_score"
      ],
      "execution_count": 2,
      "outputs": []
    },
    {
      "cell_type": "code",
      "metadata": {
        "id": "cdfhNxbiaZG5"
      },
      "source": [
        "data= load_breast_cancer()\n",
        "label_names = data[\"target_names\"]\n",
        "labels =data[\"target\"]\n",
        "feature_names= data[\"feature_names\"]\n",
        "features= data[\"data\"]"
      ],
      "execution_count": 3,
      "outputs": []
    },
    {
      "cell_type": "markdown",
      "metadata": {
        "id": "F30zBKpobBlV"
      },
      "source": [
        "We now have values for each set of useful information in the dataset. To better understand our dataset, let’s take a look at our data by printing our class labels, the label for the first data instance, our entity names, and the entity values for the first data instance:"
      ]
    },
    {
      "cell_type": "code",
      "metadata": {
        "colab": {
          "base_uri": "https://localhost:8080/"
        },
        "id": "VOWZ9bUKa70g",
        "outputId": "766495d8-4bc6-4673-f630-1deb11e6e33d"
      },
      "source": [
        "print(\"Labels Names :\", label_names)\n",
        "print(\"Class labels: \",labels[0])\n",
        "print(\"\\n\")\n",
        "print(\"Feature names :\",feature_names)\n",
        "print(\"\\n\")\n",
        "print(\"Feature labels :\",features[0])"
      ],
      "execution_count": 14,
      "outputs": [
        {
          "output_type": "stream",
          "text": [
            "Labels Names : ['malignant' 'benign']\n",
            "Class labels:  0\n",
            "\n",
            "\n",
            "Feature names : ['mean radius' 'mean texture' 'mean perimeter' 'mean area'\n",
            " 'mean smoothness' 'mean compactness' 'mean concavity'\n",
            " 'mean concave points' 'mean symmetry' 'mean fractal dimension'\n",
            " 'radius error' 'texture error' 'perimeter error' 'area error'\n",
            " 'smoothness error' 'compactness error' 'concavity error'\n",
            " 'concave points error' 'symmetry error' 'fractal dimension error'\n",
            " 'worst radius' 'worst texture' 'worst perimeter' 'worst area'\n",
            " 'worst smoothness' 'worst compactness' 'worst concavity'\n",
            " 'worst concave points' 'worst symmetry' 'worst fractal dimension']\n",
            "\n",
            "\n",
            "Feature labels : [1.799e+01 1.038e+01 1.228e+02 1.001e+03 1.184e-01 2.776e-01 3.001e-01\n",
            " 1.471e-01 2.419e-01 7.871e-02 1.095e+00 9.053e-01 8.589e+00 1.534e+02\n",
            " 6.399e-03 4.904e-02 5.373e-02 1.587e-02 3.003e-02 6.193e-03 2.538e+01\n",
            " 1.733e+01 1.846e+02 2.019e+03 1.622e-01 6.656e-01 7.119e-01 2.654e-01\n",
            " 4.601e-01 1.189e-01]\n"
          ],
          "name": "stdout"
        }
      ]
    },
    {
      "cell_type": "markdown",
      "metadata": {
        "id": "rA2CgZLIcPd9"
      },
      "source": [
        "Now that our data is loaded, we can work with our data to build our machine learning model using the Naive Bayes algorithm for the breast cancer detection task.\n",
        "\n",
        "# Splitting The Dataset\n",
        "To evaluate the performance of a classifier, you should always test the model on invisible data. Therefore, before I create a machine learning model for breast cancer detection, I will divide your data into two parts: an 80% training set and a 20% test set:"
      ]
    },
    {
      "cell_type": "code",
      "metadata": {
        "id": "AJcda7MFbLyf"
      },
      "source": [
        "train, test, train_labels, test_labels = train_test_split(features, labels,\n",
        "                                                          test_size=0.2,\n",
        "                                                          random_state=42)"
      ],
      "execution_count": 15,
      "outputs": []
    },
    {
      "cell_type": "markdown",
      "metadata": {
        "id": "nr0rCtuyclCh"
      },
      "source": [
        "# Using Naive Bayes for Breast Cancer Detection\n",
        "There are many models of machine learning, and each model has its strengths and weaknesses. For the Breast Cancer Detection Model task, I will focus on a simple algorithm that generally works well in binary classification tasks, namely the Naive Bayes classifier:"
      ]
    },
    {
      "cell_type": "code",
      "metadata": {
        "colab": {
          "base_uri": "https://localhost:8080/"
        },
        "id": "5zNRpeSNcddi",
        "outputId": "27e7be1e-4943-475b-e1e6-005e708435ac"
      },
      "source": [
        "gnb = GaussianNB()\n",
        "gnb.fit(train,train_labels)"
      ],
      "execution_count": 16,
      "outputs": [
        {
          "output_type": "execute_result",
          "data": {
            "text/plain": [
              "GaussianNB(priors=None, var_smoothing=1e-09)"
            ]
          },
          "metadata": {
            "tags": []
          },
          "execution_count": 16
        }
      ]
    },
    {
      "cell_type": "markdown",
      "metadata": {
        "id": "fB_Q-2-Pc2Gp"
      },
      "source": [
        "After training the model, we can then use the trained model to make predictions on our test set, which we use the predict() function.\n",
        "\n",
        "The predict() function returns an array of predictions for each data instance in the test set. We can then print out our predictions to get a feel for what the model determined:"
      ]
    },
    {
      "cell_type": "code",
      "metadata": {
        "colab": {
          "base_uri": "https://localhost:8080/"
        },
        "id": "0zEhtbCzcy7E",
        "outputId": "69d2501f-c6c8-41cc-eeb2-8d5b4b599a75"
      },
      "source": [
        "preds = gnb.predict(test)\n",
        "print(\"Prediction Return :\", preds)"
      ],
      "execution_count": 19,
      "outputs": [
        {
          "output_type": "stream",
          "text": [
            "Prediction Return : [1 0 0 1 1 0 0 0 1 1 1 0 1 0 1 0 1 1 1 0 1 1 0 1 1 1 1 1 1 0 1 1 1 1 1 1 0\n",
            " 1 0 1 1 0 1 1 1 1 1 1 1 1 0 0 1 1 1 1 1 0 0 1 1 0 0 1 1 1 0 0 1 1 0 0 1 0\n",
            " 1 1 1 1 1 1 0 1 1 0 0 0 0 0 1 1 1 1 1 1 1 1 0 0 1 0 0 1 0 0 1 1 1 0 1 1 0\n",
            " 1 1 0]\n"
          ],
          "name": "stdout"
        }
      ]
    },
    {
      "cell_type": "markdown",
      "metadata": {
        "id": "fdGEqkfidC73"
      },
      "source": [
        "Using the array of true class labels, we can assess the accuracy of our model’s predictors by comparing the two arrays (test_labels vs preds).\n",
        "\n",
        "I’ll use the accuracy_score () function provided by Scikit-Learn to determine the accuracy rate of our machine learning classifier:\n"
      ]
    },
    {
      "cell_type": "code",
      "metadata": {
        "colab": {
          "base_uri": "https://localhost:8080/"
        },
        "id": "h38U1dDLc76R",
        "outputId": "ff918ab2-e3cb-4b75-aea0-28fd07545d6d"
      },
      "source": [
        "print(\"Accuracy Score :\",accuracy_score(test_labels,preds))"
      ],
      "execution_count": 18,
      "outputs": [
        {
          "output_type": "stream",
          "text": [
            "Accuracy Score : 0.9736842105263158\n"
          ],
          "name": "stdout"
        }
      ]
    },
    {
      "cell_type": "markdown",
      "metadata": {
        "id": "eFpIdeBfdnjn"
      },
      "source": [
        "As you can see from the output above, our breast cancer detection model gives an accuracy rate of almost 97%. This means that 97% of the time the classifier is able to make the correct prediction.\n",
        "\n",
        "So this is how we can build a Breast cancer detection model using Machine Learning and the Python programming language. I hope you liked this article on how to build a breast cancer detection model with Machine Learning. Feel free to ask your valuable questions in the comments section below."
      ]
    }
  ]
}